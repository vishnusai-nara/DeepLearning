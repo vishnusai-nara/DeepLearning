{
 "cells": [
  {
   "cell_type": "code",
   "execution_count": 1,
   "id": "aa1a244d-d2df-4670-bec9-25f119eccd6d",
   "metadata": {},
   "outputs": [],
   "source": [
    "import torch\n",
    "import torch.nn as nn\n",
    "import torch.optim as optim\n",
    "import torch.nn.functional as F\n",
    "import torchvision\n",
    "import torchvision.transforms as transforms\n",
    "import numpy as np\n",
    "import matplotlib.pyplot as plt"
   ]
  },
  {
   "cell_type": "code",
   "execution_count": 2,
   "id": "a72504a8-1325-4318-933f-d3573ed3400a",
   "metadata": {},
   "outputs": [],
   "source": [
    "train_batch_size = 100\n",
    "test_batch_size = 64\n",
    "\n",
    "transform = transforms.Compose([\n",
    "    transforms.ToTensor(),\n",
    "    transforms.Normalize((0.4914, 0.4822, 0.4465), (0.2023, 0.1994, 0.2010))\n",
    "])"
   ]
  },
  {
   "cell_type": "code",
   "execution_count": 3,
   "id": "78f543cb-c551-482a-8696-8c8989e55d87",
   "metadata": {},
   "outputs": [
    {
     "name": "stdout",
     "output_type": "stream",
     "text": [
      "Files already downloaded and verified\n",
      "Files already downloaded and verified\n"
     ]
    }
   ],
   "source": [
    "trainset = torchvision.datasets.CIFAR10(root='./data', train=True, download=True, transform=transform)\n",
    "temp = torch.tensor(np.random.randint(0, 10, (len(trainset),)))\n",
    "trainset.targets = temp.tolist()\n",
    "trainloader = torch.utils.data.DataLoader(trainset, batch_size=train_batch_size, shuffle=True)\n",
    "\n",
    "testset = torchvision.datasets.CIFAR10(root='./data', train=False, download=True, transform=transform)\n",
    "testloader = torch.utils.data.DataLoader(testset, batch_size=test_batch_size, shuffle=False)"
   ]
  },
  {
   "cell_type": "code",
   "execution_count": 4,
   "id": "890173ae-da6a-4b02-97ae-0853bf2b28d8",
   "metadata": {},
   "outputs": [],
   "source": [
    "class CNN_Model(nn.Module):\n",
    "    def __init__(self):\n",
    "        super(CNN_Model, self).__init__()\n",
    "        self.conv1 = nn.Conv2d(3, 16, kernel_size=3, padding=1)  \n",
    "        self.bn1 = nn.BatchNorm2d(16)\n",
    "        self.conv2 = nn.Conv2d(16, 32, kernel_size=3, padding=1)\n",
    "        self.bn2 = nn.BatchNorm2d(32)\n",
    "        self.conv3 = nn.Conv2d(32, 64, kernel_size=3, padding=1)\n",
    "        self.bn3 = nn.BatchNorm2d(64)\n",
    "        self.fc1 = nn.Linear(64 * 4 * 4, 120)  \n",
    "        self.fc2 = nn.Linear(120, 10)\n",
    "\n",
    "    def forward(self, x):\n",
    "        x = F.relu(F.max_pool2d(self.conv1(x), 2))\n",
    "        x = self.bn1(x)\n",
    "        x = F.relu(F.max_pool2d(self.conv2(x), 2))\n",
    "        x = self.bn2(x)\n",
    "        x = F.relu(F.max_pool2d(self.conv3(x), 2))\n",
    "        x = self.bn3(x)\n",
    "        x = x.view(-1, 64 * 4 * 4)  \n",
    "        x = F.relu(self.fc1(x))\n",
    "        x = self.fc2(x)\n",
    "        return F.log_softmax(x, dim=1)"
   ]
  },
  {
   "cell_type": "code",
   "execution_count": 5,
   "id": "e34b6cf7-37ed-4145-8abf-dce0397cd865",
   "metadata": {},
   "outputs": [],
   "source": [
    "def train_single_epoch(model, train_loader, optimizer, criterion):\n",
    "    total_train_loss = 0.0\n",
    "    model.train()\n",
    "\n",
    "    for inputs, labels in train_loader:\n",
    "        optimizer.zero_grad()\n",
    "        outputs = model(inputs)\n",
    "        loss = criterion(outputs, labels)\n",
    "        loss.backward()\n",
    "        optimizer.step()\n",
    "        total_train_loss += loss.item()\n",
    "\n",
    "    avg_train_loss = total_train_loss / len(train_loader)\n",
    "    return avg_train_loss"
   ]
  },
  {
   "cell_type": "code",
   "execution_count": 6,
   "id": "323c2e52-5812-460a-ab0b-93a02d05c4af",
   "metadata": {},
   "outputs": [],
   "source": [
    "def evaluate_model(model, test_loader, criterion):\n",
    "    model.eval()\n",
    "    total_test_loss = 0.0\n",
    "    total_correct = 0\n",
    "\n",
    "    with torch.no_grad():\n",
    "        for inputs, labels in test_loader:\n",
    "            outputs = model(inputs)\n",
    "            total_test_loss += criterion(outputs, labels).item()\n",
    "            preds = outputs.argmax(dim=1, keepdim=True)\n",
    "            total_correct += preds.eq(labels.view_as(preds)).sum().item()\n",
    "\n",
    "    avg_test_loss = total_test_loss / len(test_loader)\n",
    "    accuracy = total_correct / len(test_loader.dataset)\n",
    "    return avg_test_loss, accuracy"
   ]
  },
  {
   "cell_type": "code",
   "execution_count": 7,
   "id": "d3d93ac5-448d-4ade-a69d-fca18fd6508c",
   "metadata": {},
   "outputs": [],
   "source": [
    "def log_epoch_results(epoch, avg_train_loss, avg_test_loss, accuracy):\n",
    "    print(f'Epoch {epoch + 1}, Train Loss: {avg_train_loss:.4f}, Test Loss: {avg_test_loss:.4f}, Accuracy: {accuracy:.4f}')"
   ]
  },
  {
   "cell_type": "code",
   "execution_count": 8,
   "id": "f558b8f8-8772-4412-a65c-2689c1eec9db",
   "metadata": {},
   "outputs": [],
   "source": [
    "def train_and_evaluate_model(model, train_loader, test_loader, optimizer, criterion, epochs=100):\n",
    "    train_losses  = []\n",
    "    test_losses = []\n",
    "\n",
    "    for epoch in range(epochs):\n",
    "        avg_train_loss = train_single_epoch(model, train_loader, optimizer, criterion)\n",
    "        train_losses.append(avg_train_loss)\n",
    "\n",
    "        avg_test_loss, accuracy = evaluate_model(model, test_loader, criterion)\n",
    "        test_losses.append(avg_test_loss)\n",
    "\n",
    "        log_epoch_results(epoch, avg_train_loss, avg_test_loss, accuracy)\n",
    "\n",
    "    return train_losses, test_losses\n"
   ]
  },
  {
   "cell_type": "code",
   "execution_count": 9,
   "id": "373ed002-9c90-4a3b-91bd-df36d0c6ccb9",
   "metadata": {},
   "outputs": [
    {
     "name": "stdout",
     "output_type": "stream",
     "text": [
      "Epoch 1, Train Loss: 2.3157, Test Loss: 2.3049, Accuracy: 0.0784\n",
      "Epoch 2, Train Loss: 2.3014, Test Loss: 2.3061, Accuracy: 0.0924\n",
      "Epoch 3, Train Loss: 2.2968, Test Loss: 2.3272, Accuracy: 0.0826\n",
      "Epoch 4, Train Loss: 2.2846, Test Loss: 2.3209, Accuracy: 0.0975\n",
      "Epoch 5, Train Loss: 2.2544, Test Loss: 2.3466, Accuracy: 0.0889\n",
      "Epoch 6, Train Loss: 2.1929, Test Loss: 2.4088, Accuracy: 0.0973\n",
      "Epoch 7, Train Loss: 2.0922, Test Loss: 2.4624, Accuracy: 0.1071\n",
      "Epoch 8, Train Loss: 1.9610, Test Loss: 2.6215, Accuracy: 0.0985\n",
      "Epoch 9, Train Loss: 1.8187, Test Loss: 2.7621, Accuracy: 0.1050\n",
      "Epoch 10, Train Loss: 1.6765, Test Loss: 2.9444, Accuracy: 0.1017\n",
      "Epoch 11, Train Loss: 1.5406, Test Loss: 3.1792, Accuracy: 0.1023\n",
      "Epoch 12, Train Loss: 1.4208, Test Loss: 3.4234, Accuracy: 0.1034\n",
      "Epoch 13, Train Loss: 1.3081, Test Loss: 3.6756, Accuracy: 0.1054\n",
      "Epoch 14, Train Loss: 1.2127, Test Loss: 3.9502, Accuracy: 0.1026\n",
      "Epoch 15, Train Loss: 1.1212, Test Loss: 4.2436, Accuracy: 0.1020\n",
      "Epoch 16, Train Loss: 1.0417, Test Loss: 4.5030, Accuracy: 0.1025\n",
      "Epoch 17, Train Loss: 0.9796, Test Loss: 4.7965, Accuracy: 0.1037\n",
      "Epoch 18, Train Loss: 0.9187, Test Loss: 5.1245, Accuracy: 0.1031\n",
      "Epoch 19, Train Loss: 0.8651, Test Loss: 5.5980, Accuracy: 0.1009\n",
      "Epoch 20, Train Loss: 0.8224, Test Loss: 5.7788, Accuracy: 0.1026\n",
      "Epoch 21, Train Loss: 0.7764, Test Loss: 6.0819, Accuracy: 0.1015\n",
      "Epoch 22, Train Loss: 0.7334, Test Loss: 6.3125, Accuracy: 0.1029\n",
      "Epoch 23, Train Loss: 0.6975, Test Loss: 6.7823, Accuracy: 0.0970\n",
      "Epoch 24, Train Loss: 0.6870, Test Loss: 6.9013, Accuracy: 0.0939\n",
      "Epoch 25, Train Loss: 0.6519, Test Loss: 7.0667, Accuracy: 0.1022\n",
      "Epoch 26, Train Loss: 0.6258, Test Loss: 7.4393, Accuracy: 0.1017\n",
      "Epoch 27, Train Loss: 0.5952, Test Loss: 7.8211, Accuracy: 0.1005\n",
      "Epoch 28, Train Loss: 0.5799, Test Loss: 8.0327, Accuracy: 0.0976\n",
      "Epoch 29, Train Loss: 0.5626, Test Loss: 8.1056, Accuracy: 0.1045\n",
      "Epoch 30, Train Loss: 0.5575, Test Loss: 8.5879, Accuracy: 0.1003\n",
      "Epoch 31, Train Loss: 0.5375, Test Loss: 8.5611, Accuracy: 0.0996\n",
      "Epoch 32, Train Loss: 0.5102, Test Loss: 8.8851, Accuracy: 0.1005\n",
      "Epoch 33, Train Loss: 0.5003, Test Loss: 8.9883, Accuracy: 0.1038\n",
      "Epoch 34, Train Loss: 0.5012, Test Loss: 9.2031, Accuracy: 0.1032\n",
      "Epoch 35, Train Loss: 0.4819, Test Loss: 9.6618, Accuracy: 0.0989\n",
      "Epoch 36, Train Loss: 0.4683, Test Loss: 9.9452, Accuracy: 0.1003\n",
      "Epoch 37, Train Loss: 0.4518, Test Loss: 9.7487, Accuracy: 0.1013\n",
      "Epoch 38, Train Loss: 0.4513, Test Loss: 9.9923, Accuracy: 0.1048\n",
      "Epoch 39, Train Loss: 0.4526, Test Loss: 10.2184, Accuracy: 0.1026\n",
      "Epoch 40, Train Loss: 0.4321, Test Loss: 10.4246, Accuracy: 0.0992\n",
      "Epoch 41, Train Loss: 0.4089, Test Loss: 10.7000, Accuracy: 0.1019\n",
      "Epoch 42, Train Loss: 0.4050, Test Loss: 10.8013, Accuracy: 0.1035\n",
      "Epoch 43, Train Loss: 0.4087, Test Loss: 11.1081, Accuracy: 0.1016\n",
      "Epoch 44, Train Loss: 0.4115, Test Loss: 11.2675, Accuracy: 0.1043\n",
      "Epoch 45, Train Loss: 0.3985, Test Loss: 11.2185, Accuracy: 0.0999\n",
      "Epoch 46, Train Loss: 0.3647, Test Loss: 11.6976, Accuracy: 0.1002\n",
      "Epoch 47, Train Loss: 0.3853, Test Loss: 11.7451, Accuracy: 0.0993\n",
      "Epoch 48, Train Loss: 0.3794, Test Loss: 11.8820, Accuracy: 0.1027\n",
      "Epoch 49, Train Loss: 0.3749, Test Loss: 12.0038, Accuracy: 0.0984\n",
      "Epoch 50, Train Loss: 0.3710, Test Loss: 12.3756, Accuracy: 0.0991\n",
      "Epoch 51, Train Loss: 0.3577, Test Loss: 12.2356, Accuracy: 0.0999\n",
      "Epoch 52, Train Loss: 0.3481, Test Loss: 12.5049, Accuracy: 0.0971\n",
      "Epoch 53, Train Loss: 0.3373, Test Loss: 12.6676, Accuracy: 0.0957\n",
      "Epoch 54, Train Loss: 0.3465, Test Loss: 12.9376, Accuracy: 0.1019\n",
      "Epoch 55, Train Loss: 0.3569, Test Loss: 12.8088, Accuracy: 0.1001\n",
      "Epoch 56, Train Loss: 0.3253, Test Loss: 13.1950, Accuracy: 0.1008\n",
      "Epoch 57, Train Loss: 0.3142, Test Loss: 13.2505, Accuracy: 0.0995\n",
      "Epoch 58, Train Loss: 0.3228, Test Loss: 13.1503, Accuracy: 0.0994\n",
      "Epoch 59, Train Loss: 0.3159, Test Loss: 13.4186, Accuracy: 0.0969\n",
      "Epoch 60, Train Loss: 0.3132, Test Loss: 13.6618, Accuracy: 0.0980\n",
      "Epoch 61, Train Loss: 0.3209, Test Loss: 13.9201, Accuracy: 0.0991\n",
      "Epoch 62, Train Loss: 0.3320, Test Loss: 14.0034, Accuracy: 0.0979\n",
      "Epoch 63, Train Loss: 0.2973, Test Loss: 14.0635, Accuracy: 0.0996\n",
      "Epoch 64, Train Loss: 0.2937, Test Loss: 14.4867, Accuracy: 0.0980\n",
      "Epoch 65, Train Loss: 0.3016, Test Loss: 14.1190, Accuracy: 0.1042\n",
      "Epoch 66, Train Loss: 0.2886, Test Loss: 14.5376, Accuracy: 0.0992\n",
      "Epoch 67, Train Loss: 0.2933, Test Loss: 14.6357, Accuracy: 0.1015\n",
      "Epoch 68, Train Loss: 0.2912, Test Loss: 14.7418, Accuracy: 0.0991\n",
      "Epoch 69, Train Loss: 0.2890, Test Loss: 14.4536, Accuracy: 0.0991\n",
      "Epoch 70, Train Loss: 0.2890, Test Loss: 14.7234, Accuracy: 0.0970\n",
      "Epoch 71, Train Loss: 0.2827, Test Loss: 14.9882, Accuracy: 0.0993\n",
      "Epoch 72, Train Loss: 0.2720, Test Loss: 15.0119, Accuracy: 0.0996\n",
      "Epoch 73, Train Loss: 0.2776, Test Loss: 15.2264, Accuracy: 0.1009\n",
      "Epoch 74, Train Loss: 0.2895, Test Loss: 15.1426, Accuracy: 0.0989\n",
      "Epoch 75, Train Loss: 0.2641, Test Loss: 15.6671, Accuracy: 0.0974\n",
      "Epoch 76, Train Loss: 0.2470, Test Loss: 15.5785, Accuracy: 0.0997\n",
      "Epoch 77, Train Loss: 0.2637, Test Loss: 15.8558, Accuracy: 0.0998\n",
      "Epoch 78, Train Loss: 0.2683, Test Loss: 15.7453, Accuracy: 0.0988\n",
      "Epoch 79, Train Loss: 0.2672, Test Loss: 15.7088, Accuracy: 0.1037\n",
      "Epoch 80, Train Loss: 0.2482, Test Loss: 16.4129, Accuracy: 0.1016\n",
      "Epoch 81, Train Loss: 0.2678, Test Loss: 16.1135, Accuracy: 0.1010\n",
      "Epoch 82, Train Loss: 0.2703, Test Loss: 16.1534, Accuracy: 0.0984\n",
      "Epoch 83, Train Loss: 0.2694, Test Loss: 16.0139, Accuracy: 0.1017\n",
      "Epoch 84, Train Loss: 0.2150, Test Loss: 16.2135, Accuracy: 0.1062\n",
      "Epoch 85, Train Loss: 0.2332, Test Loss: 16.3559, Accuracy: 0.1019\n",
      "Epoch 86, Train Loss: 0.2608, Test Loss: 16.6563, Accuracy: 0.0969\n",
      "Epoch 87, Train Loss: 0.2407, Test Loss: 16.6102, Accuracy: 0.1008\n",
      "Epoch 88, Train Loss: 0.2440, Test Loss: 16.6029, Accuracy: 0.1019\n",
      "Epoch 89, Train Loss: 0.2441, Test Loss: 17.0035, Accuracy: 0.1037\n",
      "Epoch 90, Train Loss: 0.2356, Test Loss: 17.0559, Accuracy: 0.1017\n",
      "Epoch 91, Train Loss: 0.2249, Test Loss: 16.9784, Accuracy: 0.1015\n",
      "Epoch 92, Train Loss: 0.2216, Test Loss: 17.4022, Accuracy: 0.0997\n",
      "Epoch 93, Train Loss: 0.2466, Test Loss: 17.2205, Accuracy: 0.1001\n",
      "Epoch 94, Train Loss: 0.2575, Test Loss: 17.1147, Accuracy: 0.1005\n",
      "Epoch 95, Train Loss: 0.2276, Test Loss: 17.3960, Accuracy: 0.0975\n",
      "Epoch 96, Train Loss: 0.2148, Test Loss: 17.6512, Accuracy: 0.1014\n",
      "Epoch 97, Train Loss: 0.2094, Test Loss: 17.6581, Accuracy: 0.0992\n",
      "Epoch 98, Train Loss: 0.2178, Test Loss: 17.6909, Accuracy: 0.0993\n",
      "Epoch 99, Train Loss: 0.2166, Test Loss: 17.7305, Accuracy: 0.1013\n",
      "Epoch 100, Train Loss: 0.2395, Test Loss: 18.1275, Accuracy: 0.0998\n"
     ]
    }
   ],
   "source": [
    "model = CNN_Model()\n",
    "loss_func = nn.CrossEntropyLoss()\n",
    "optimizer = optim.Adam(model.parameters(), lr=0.001)\n",
    "train_losses, test_losses = train_and_evaluate_model(model, trainloader, testloader, optimizer, loss_func)"
   ]
  },
  {
   "cell_type": "code",
   "execution_count": 10,
   "id": "4cbd2716-ccef-4226-bac3-ec16b8d4fbdf",
   "metadata": {
    "tags": []
   },
   "outputs": [
    {
     "data": {
      "text/plain": [
       "<matplotlib.legend.Legend at 0x7fc9e9d17ad0>"
      ]
     },
     "execution_count": 10,
     "metadata": {},
     "output_type": "execute_result"
    },
    {
     "data": {
      "image/png": "[encoded data removed]",
      "text/plain": [
       "<Figure size 1200x500 with 1 Axes>"
      ]
     },
     "metadata": {},
     "output_type": "display_data"
    }
   ],
   "source": [
    "plt.figure(figsize=(12, 5))\n",
    "plt.subplot(1, 2, 1)\n",
    "plt.plot(train_losses, label='Train Loss')\n",
    "plt.plot(test_losses, label='Test Loss')\n",
    "plt.xlabel('Epoch')\n",
    "plt.ylabel('Loss')\n",
    "plt.legend()"
   ]
  }
 ],
 "metadata": {
  "kernelspec": {
   "display_name": "Python (my_env)",
   "language": "python",
   "name": "my_env"
  },
  "language_info": {
   "codemirror_mode": {
    "name": "ipython",
    "version": 3
   },
   "file_extension": ".py",
   "mimetype": "text/x-python",
   "name": "python",
   "nbconvert_exporter": "python",
   "pygments_lexer": "ipython3",
   "version": "3.11.9"
  }
 },
 "nbformat": 4,
 "nbformat_minor": 5
}
