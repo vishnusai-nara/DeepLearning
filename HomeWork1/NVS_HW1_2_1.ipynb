{
 "cells": [
  {
   "cell_type": "code",
   "execution_count": 1,
   "id": "577cbcd4-8689-45c1-94ca-ce9192009f1e",
   "metadata": {
    "tags": []
   },
   "outputs": [],
   "source": [
    "import torch\n",
    "import torch.nn as nn\n",
    "import torch.optim as optim\n",
    "import torch.nn.functional as F\n",
    "import torchvision\n",
    "import torchvision.transforms as transforms\n",
    "import numpy as np\n",
    "from torchvision import datasets, transforms\n",
    "from torch.utils.data import DataLoader\n",
    "from sklearn.decomposition import PCA\n",
    "import matplotlib.pyplot as plt"
   ]
  },
  {
   "cell_type": "code",
   "execution_count": 2,
   "id": "0f6e6d9a-1fc9-4305-b50e-c5bdf9fcf919",
   "metadata": {
    "tags": []
   },
   "outputs": [],
   "source": [
    "# Define batch sizes\n",
    "batch_size_train = 100\n",
    "batch_size_test = 64"
   ]
  },
  {
   "cell_type": "code",
   "execution_count": 3,
   "id": "d556b359-6e1b-4682-b340-fe3a92ec072a",
   "metadata": {
    "tags": []
   },
   "outputs": [],
   "source": [
    "# Data transformation pipeline for normalization\n",
    "data_transform = transforms.Compose([\n",
    "    transforms.ToTensor(),\n",
    "    transforms.Normalize((0.1307,), (0.3081,))  \n",
    "])"
   ]
  },
  {
   "cell_type": "code",
   "execution_count": 4,
   "id": "d6b2f909-961f-4884-9bcb-a783678276e5",
   "metadata": {
    "tags": []
   },
   "outputs": [],
   "source": [
    "# Download and load training data\n",
    "train_dataset = torchvision.datasets.MNIST(\n",
    "    root='./data', train=True, download=True, transform=data_transform\n",
    ")"
   ]
  },
  {
   "cell_type": "code",
   "execution_count": 5,
   "id": "12df9732-1041-4609-aa26-7de3fc83d2f0",
   "metadata": {
    "tags": []
   },
   "outputs": [],
   "source": [
    "# Download and load test data\n",
    "test_dataset = torchvision.datasets.MNIST(\n",
    "    root='./data', train=False, download=True, transform=data_transform\n",
    ")"
   ]
  },
  {
   "cell_type": "code",
   "execution_count": 6,
   "id": "c3f0ea3a-c377-4544-a7b4-d3cb07922742",
   "metadata": {
    "tags": []
   },
   "outputs": [],
   "source": [
    "# Create DataLoader for training set\n",
    "train_loader = torch.utils.data.DataLoader(\n",
    "    dataset=train_dataset, batch_size=batch_size_train, shuffle=True\n",
    ")"
   ]
  },
  {
   "cell_type": "code",
   "execution_count": 7,
   "id": "8d36899f-09d2-4eb0-b344-9e1b061b3bfe",
   "metadata": {
    "tags": []
   },
   "outputs": [],
   "source": [
    "# Create DataLoader for test set\n",
    "test_loader = torch.utils.data.DataLoader(\n",
    "    dataset=test_dataset, batch_size=batch_size_test, shuffle=False\n",
    ")"
   ]
  },
  {
   "cell_type": "code",
   "execution_count": 8,
   "id": "b120e57d-356b-4bbb-a700-87144e2479bc",
   "metadata": {},
   "outputs": [],
   "source": [
    "# defing dnn model, optimizer, and loss function\n",
    "class DNNModel(nn.Module):\n",
    "    def __init__(self):\n",
    "        super(DNNModel, self).__init__()\n",
    "        self.fc1 = nn.Linear(28 * 28, 128)\n",
    "        self.fc2 = nn.Linear(128, 64)\n",
    "        self.fc3 = nn.Linear(64, 10)\n",
    "    def forward(self, x):\n",
    "        x = x.view(-1, 28 * 28)\n",
    "        x = F.leaky_relu(self.fc1(x), negative_slope=0.01)  # LeakyReLU instead of ReLU\n",
    "        x = F.leaky_relu(self.fc2(x), negative_slope=0.01)\n",
    "        x = self.fc3(x)\n",
    "        return x\n",
    "model = DNNModel()\n",
    "optimizer = torch.optim.SGD(model.parameters(), lr=1e-3)\n",
    "loss_function = torch.nn.CrossEntropyLoss()"
   ]
  },
  {
   "cell_type": "code",
   "execution_count": 9,
   "id": "f89086a0-b8fd-4636-8bcd-6694f8d8a3e8",
   "metadata": {},
   "outputs": [],
   "source": [
    "# Function to initialize model and optimizer\n",
    "def initialize_model_and_optimizer():\n",
    "    \"\"\"Initializes the model, optimizer, and loss function.\"\"\"\n",
    "    model = DNNModel()\n",
    "    optimizer = torch.optim.SGD(model.parameters(), lr=1e-3)\n",
    "    loss_function = torch.nn.CrossEntropyLoss()\n",
    "    return model, optimizer, loss_function"
   ]
  },
  {
   "cell_type": "code",
   "execution_count": 10,
   "id": "aab5f3d2-ae27-4004-9176-93c36f931ca1",
   "metadata": {},
   "outputs": [],
   "source": [
    "# Function to train one epoch\n",
    "def train_one_epoch(model, train_loader, optimizer, loss_function):\n",
    "    \"\"\"Train the model for one epoch and return the average loss.\"\"\"\n",
    "    model.train()  # Set model to training mode\n",
    "    running_loss = 0\n",
    "\n",
    "    for inputs, labels in train_loader:\n",
    "        optimizer.zero_grad()  # Reset gradients\n",
    "        outputs = model(inputs)  # Forward pass\n",
    "        loss = loss_function(outputs, labels)  # Compute loss\n",
    "        loss.backward()  # Backward pass\n",
    "        optimizer.step()  # Update weights\n",
    "        running_loss += loss.item()\n",
    "\n",
    "    return running_loss / len(train_loader)"
   ]
  },
  {
   "cell_type": "code",
   "execution_count": 11,
   "id": "5f9404d8-5880-4833-86ac-dd7491b520f6",
   "metadata": {},
   "outputs": [],
   "source": [
    "# Function to log weights and loss\n",
    "def log_weights_and_loss(model, loss, weights_first_layer, weights_full_model, losses):\n",
    "    \"\"\"Logs the weights of the first layer and full model along with the loss.\"\"\"\n",
    "    weights_first_layer.append(model.fc1.weight.data.numpy().flatten())\n",
    "    full_model_weights = np.concatenate([param.data.numpy().flatten() for param in model.parameters()])\n",
    "    weights_full_model.append(full_model_weights)\n",
    "    losses.append(loss)"
   ]
  },
  {
   "cell_type": "code",
   "execution_count": 12,
   "id": "b6eade84-5f49-48d4-937d-036fd8bc6264",
   "metadata": {},
   "outputs": [],
   "source": [
    "# Main function to train the model over multiple iterations\n",
    "def train_model(train_loader, epochs=24, tolerance=1e-5):\n",
    "    \"\"\"Train the model over multiple iterations and log weights and losses.\"\"\"\n",
    "    complete_weights_first_layer, complete_weights_full_model, complete_losses = [], [], []\n",
    "     # Training loop for 8 iteration\n",
    "    for t_i in range(8): \n",
    "        print(f\"Training time: {t_i + 1}\")\n",
    "        # Initialize model, optimizer, and loss function\n",
    "        model, optimizer, loss_function = initialize_model_and_optimizer()\n",
    "        weights_first_layer, weights_full_model, losses = [], [], []\n",
    "        for epoch in range(epochs):\n",
    "            avg_loss = train_one_epoch(model, train_loader, optimizer, loss_function)\n",
    "            if epoch % 3 == 0:\n",
    "                log_weights_and_loss(model, avg_loss, weights_first_layer, weights_full_model, losses)\n",
    "        # Collect results after each training iteration\n",
    "        complete_weights_first_layer.append(weights_first_layer)\n",
    "        complete_weights_full_model.append(weights_full_model)\n",
    "        complete_losses.append(losses)\n",
    "    return complete_weights_first_layer, complete_weights_full_model, complete_losses"
   ]
  },
  {
   "cell_type": "code",
   "execution_count": 13,
   "id": "fd5c1862-c8de-465a-88f2-38469ac13689",
   "metadata": {},
   "outputs": [
    {
     "name": "stdout",
     "output_type": "stream",
     "text": [
      "Training time: 1\n",
      "Training time: 2\n",
      "Training time: 3\n",
      "Training time: 4\n",
      "Training time: 5\n",
      "Training time: 6\n",
      "Training time: 7\n",
      "Training time: 8\n"
     ]
    }
   ],
   "source": [
    "# Define the data transformation and load MNIST dataset\n",
    "transform = transforms.Compose([transforms.ToTensor(), transforms.Normalize((0.1307,), (0.3081,))])\n",
    "trainset = datasets.MNIST(root='./data', train=True, download=True, transform=transform)\n",
    "trainloader = DataLoader(trainset, batch_size=100, shuffle=True)\n",
    "\n",
    "# Call the train_model function\n",
    "first_layer_model_weights, full_model_weights, model_losses = train_model(train_loader=trainloader, epochs=24)"
   ]
  },
  {
   "cell_type": "code",
   "execution_count": 14,
   "id": "97984314-b125-4c46-a613-5daaf4e1f352",
   "metadata": {
    "tags": []
   },
   "outputs": [],
   "source": [
    "def perform_pca(weights, n_components=2):\n",
    "    \"\"\"Performs PCA on the given weights.\"\"\"\n",
    "    weights_flat = np.vstack(weights)\n",
    "    pca = PCA(n_components=n_components)\n",
    "    return pca.fit_transform(weights_flat)"
   ]
  },
  {
   "cell_type": "code",
   "execution_count": 15,
   "id": "12afcc25-f39e-454d-88a1-f804a04c3baf",
   "metadata": {
    "tags": []
   },
   "outputs": [],
   "source": [
    "def plot_pca_results(pca_data, title, subplot_position):\n",
    "    \"\"\"Plots the PCA results in the given subplot position.\"\"\"\n",
    "    plt.subplot(subplot_position)\n",
    "    plt.scatter(pca_data[:, 0], pca_data[:, 1], alpha=0.7)\n",
    "    plt.title(title)\n",
    "    plt.xlabel('Principal Component 1')\n",
    "    plt.ylabel('Principal Component 2')"
   ]
  },
  {
   "cell_type": "code",
   "execution_count": 16,
   "id": "f1c71fa7-4dc3-4c57-afa4-a2ffa778bb8b",
   "metadata": {
    "tags": []
   },
   "outputs": [],
   "source": [
    "# Apply PCA to both full model and first layer weights\n",
    "weights_full_model_pca = perform_pca(full_model_weights)\n",
    "weights_first_layer_pca = perform_pca(first_layer_model_weights)"
   ]
  },
  {
   "cell_type": "code",
   "execution_count": 19,
   "id": "9155a59e-dcc5-4b3a-b733-7f6dd81b1e8c",
   "metadata": {},
   "outputs": [
    {
     "data": {
      "image/png": "[encoded data removed]",
      "text/plain": [
       "<Figure size 700x700 with 2 Axes>"
      ]
     },
     "metadata": {},
     "output_type": "display_data"
    }
   ],
   "source": [
    "plt.figure(figsize=(7, 7))\n",
    "plot_pca_results(weights_full_model_pca, 'PCA of Whole Model Weights', 211)\n",
    "plot_pca_results(weights_first_layer_pca, 'PCA of First Layer Weights', 212)\n",
    "plt.tight_layout()\n",
    "plt.show()"
   ]
  },
  {
   "cell_type": "code",
   "execution_count": null,
   "id": "9b59ed95-ecfa-4991-a00e-d05090f97970",
   "metadata": {},
   "outputs": [],
   "source": []
  }
 ],
 "metadata": {
  "kernelspec": {
   "display_name": "Python (my_env)",
   "language": "python",
   "name": "my_env"
  },
  "language_info": {
   "codemirror_mode": {
    "name": "ipython",
    "version": 3
   },
   "file_extension": ".py",
   "mimetype": "text/x-python",
   "name": "python",
   "nbconvert_exporter": "python",
   "pygments_lexer": "ipython3",
   "version": "3.11.9"
  }
 },
 "nbformat": 4,
 "nbformat_minor": 5
}
